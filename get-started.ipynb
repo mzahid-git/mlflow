{
 "cells": [
  {
   "cell_type": "markdown",
   "metadata": {},
   "source": [
    "## MLFlow Tracking Server"
   ]
  },
  {
   "cell_type": "code",
   "execution_count": 6,
   "metadata": {},
   "outputs": [],
   "source": [
    "import mlflow"
   ]
  },
  {
   "cell_type": "code",
   "execution_count": 7,
   "metadata": {},
   "outputs": [],
   "source": [
    "mlflow.set_tracking_uri(\"http://127.0.0.1:5000\")"
   ]
  },
  {
   "cell_type": "code",
   "execution_count": 8,
   "metadata": {},
   "outputs": [
    {
     "name": "stderr",
     "output_type": "stream",
     "text": [
      "2024/11/15 03:21:12 INFO mlflow.tracking.fluent: Experiment with name 'Check local host connection' does not exist. Creating a new experiment.\n",
      "2024/11/15 03:21:12 INFO mlflow.tracking._tracking_service.client: 🏃 View run serious-whale-396 at: http://127.0.0.1:5000/#/experiments/426573113867917839/runs/b286df3038624570951d3d7cb07da23a.\n",
      "2024/11/15 03:21:12 INFO mlflow.tracking._tracking_service.client: 🧪 View experiment at: http://127.0.0.1:5000/#/experiments/426573113867917839.\n"
     ]
    }
   ],
   "source": [
    "mlflow.set_experiment(\"Check local host connection\")\n",
    "\n",
    "with mlflow.start_run():\n",
    "    mlflow.log_metric('test 1',1)\n",
    "    mlflow.log_metric('test 2',2)"
   ]
  },
  {
   "cell_type": "code",
   "execution_count": 9,
   "metadata": {},
   "outputs": [
    {
     "name": "stderr",
     "output_type": "stream",
     "text": [
      "2024/11/15 03:21:20 INFO mlflow.tracking._tracking_service.client: 🏃 View run wise-yak-481 at: http://127.0.0.1:5000/#/experiments/426573113867917839/runs/840a6ea6fb74431288d4920e86f6609d.\n",
      "2024/11/15 03:21:20 INFO mlflow.tracking._tracking_service.client: 🧪 View experiment at: http://127.0.0.1:5000/#/experiments/426573113867917839.\n"
     ]
    }
   ],
   "source": [
    "with mlflow.start_run():\n",
    "    mlflow.log_metric('test 3',1)\n",
    "    mlflow.log_metric('test 4',2)"
   ]
  },
  {
   "cell_type": "code",
   "execution_count": 10,
   "metadata": {},
   "outputs": [
    {
     "name": "stderr",
     "output_type": "stream",
     "text": [
      "2024/11/15 03:21:58 INFO mlflow.tracking._tracking_service.client: 🏃 View run peaceful-tern-356 at: http://127.0.0.1:5000/#/experiments/426573113867917839/runs/e929f01ccaed4ababad468c1fb136eba.\n",
      "2024/11/15 03:21:58 INFO mlflow.tracking._tracking_service.client: 🧪 View experiment at: http://127.0.0.1:5000/#/experiments/426573113867917839.\n"
     ]
    }
   ],
   "source": [
    "mlflow.set_experiment(\"Check local host connection\")\n",
    "\n",
    "with mlflow.start_run():\n",
    "    mlflow.log_metric('test 5',1)\n",
    "    mlflow.log_metric('test 6',2)"
   ]
  }
 ],
 "metadata": {
  "kernelspec": {
   "display_name": "Python 3",
   "language": "python",
   "name": "python3"
  },
  "language_info": {
   "codemirror_mode": {
    "name": "ipython",
    "version": 3
   },
   "file_extension": ".py",
   "mimetype": "text/x-python",
   "name": "python",
   "nbconvert_exporter": "python",
   "pygments_lexer": "ipython3",
   "version": "3.12.0"
  }
 },
 "nbformat": 4,
 "nbformat_minor": 2
}
