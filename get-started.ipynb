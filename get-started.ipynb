{
 "cells": [
  {
   "cell_type": "markdown",
   "metadata": {},
   "source": [
    "## MLFlow Tracking Server"
   ]
  },
  {
   "cell_type": "code",
   "execution_count": 1,
   "metadata": {},
   "outputs": [],
   "source": [
    "import mlflow"
   ]
  },
  {
   "cell_type": "code",
   "execution_count": 2,
   "metadata": {},
   "outputs": [],
   "source": [
    "mlflow.set_tracking_uri(\"http://127.0.0.1:5000\")"
   ]
  },
  {
   "cell_type": "code",
   "execution_count": 3,
   "metadata": {},
   "outputs": [
    {
     "name": "stderr",
     "output_type": "stream",
     "text": [
      "2024/11/14 03:55:43 INFO mlflow.tracking.fluent: Experiment with name 'Check local host connection' does not exist. Creating a new experiment.\n",
      "2024/11/14 03:55:44 INFO mlflow.tracking._tracking_service.client: 🏃 View run youthful-donkey-921 at: http://127.0.0.1:5000/#/experiments/316460040334133761/runs/7aef68825cf6424eaabe89cff1f0178e.\n",
      "2024/11/14 03:55:44 INFO mlflow.tracking._tracking_service.client: 🧪 View experiment at: http://127.0.0.1:5000/#/experiments/316460040334133761.\n"
     ]
    }
   ],
   "source": [
    "mlflow.set_experiment(\"Check local host connection\")\n",
    "\n",
    "with mlflow.start_run():\n",
    "    mlflow.log_metric('test 1',1)\n",
    "    mlflow.log_metric('test 2',2)"
   ]
  },
  {
   "cell_type": "code",
   "execution_count": 4,
   "metadata": {},
   "outputs": [
    {
     "name": "stderr",
     "output_type": "stream",
     "text": [
      "2024/11/14 04:01:18 INFO mlflow.tracking._tracking_service.client: 🏃 View run bold-squid-749 at: http://127.0.0.1:5000/#/experiments/316460040334133761/runs/c34452e40c034c6894e39495c57eace2.\n",
      "2024/11/14 04:01:18 INFO mlflow.tracking._tracking_service.client: 🧪 View experiment at: http://127.0.0.1:5000/#/experiments/316460040334133761.\n"
     ]
    }
   ],
   "source": [
    "with mlflow.start_run():\n",
    "    mlflow.log_metric('test 3',1)\n",
    "    mlflow.log_metric('test 4',2)"
   ]
  }
 ],
 "metadata": {
  "kernelspec": {
   "display_name": "Python 3",
   "language": "python",
   "name": "python3"
  },
  "language_info": {
   "codemirror_mode": {
    "name": "ipython",
    "version": 3
   },
   "file_extension": ".py",
   "mimetype": "text/x-python",
   "name": "python",
   "nbconvert_exporter": "python",
   "pygments_lexer": "ipython3",
   "version": "3.12.0"
  }
 },
 "nbformat": 4,
 "nbformat_minor": 2
}
